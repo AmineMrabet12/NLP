{
 "cells": [
  {
   "cell_type": "code",
   "execution_count": 14,
   "metadata": {},
   "outputs": [],
   "source": [
    "import pandas as pd\n",
    "from transformers import BertTokenizer, TFBertForSequenceClassification, DistilBertTokenizer, TFDistilBertForSequenceClassification\n",
    "from transformers import InputExample, InputFeatures\n",
    "from sklearn.preprocessing import LabelEncoder\n",
    "import tensorflow as tf"
   ]
  },
  {
   "cell_type": "code",
   "execution_count": 15,
   "metadata": {},
   "outputs": [],
   "source": [
    "train_df = pd.read_csv('../data/train.txt', sep=';', header=None, names=['text', 'emotion'])\n",
    "test_df = pd.read_csv('../data/test.txt', sep=';', header=None, names=['text', 'emotion'])\n",
    "validation_df = pd.read_csv('../data/validation.txt', sep=';', header=None, names=['text', 'emotion'])\n",
    "\n",
    "combined_df = pd.concat([train_df, test_df, validation_df], ignore_index=True)"
   ]
  },
  {
   "cell_type": "code",
   "execution_count": 16,
   "metadata": {},
   "outputs": [],
   "source": [
    "label = LabelEncoder()"
   ]
  },
  {
   "cell_type": "code",
   "execution_count": 17,
   "metadata": {},
   "outputs": [],
   "source": [
    "label.fit(train_df['emotion'])\n",
    "\n",
    "train_df['emotion'] = label.transform(train_df['emotion'])\n",
    "test_df['emotion'] = label.transform(test_df['emotion'])\n",
    "validation_df['emotion'] = label.transform(validation_df['emotion'])"
   ]
  },
  {
   "cell_type": "code",
   "execution_count": 18,
   "metadata": {},
   "outputs": [
    {
     "name": "stderr",
     "output_type": "stream",
     "text": [
      "Some weights of the PyTorch model were not used when initializing the TF 2.0 model TFDistilBertForSequenceClassification: ['vocab_layer_norm.bias', 'vocab_layer_norm.weight', 'vocab_transform.bias', 'vocab_projector.bias', 'vocab_transform.weight']\n",
      "- This IS expected if you are initializing TFDistilBertForSequenceClassification from a PyTorch model trained on another task or with another architecture (e.g. initializing a TFBertForSequenceClassification model from a BertForPreTraining model).\n",
      "- This IS NOT expected if you are initializing TFDistilBertForSequenceClassification from a PyTorch model that you expect to be exactly identical (e.g. initializing a TFBertForSequenceClassification model from a BertForSequenceClassification model).\n",
      "Some weights or buffers of the TF 2.0 model TFDistilBertForSequenceClassification were not initialized from the PyTorch model and are newly initialized: ['pre_classifier.weight', 'pre_classifier.bias', 'classifier.weight', 'classifier.bias']\n",
      "You should probably TRAIN this model on a down-stream task to be able to use it for predictions and inference.\n"
     ]
    }
   ],
   "source": [
    "# tokenizer = BertTokenizer.from_pretrained('bert-base-uncased')\n",
    "# model = TFBertForSequenceClassification.from_pretrained('bert-base-uncased', num_labels=6)\n",
    "\n",
    "tokenizer = DistilBertTokenizer.from_pretrained('distilbert-base-uncased')\n",
    "model = TFDistilBertForSequenceClassification.from_pretrained('distilbert-base-uncased', num_labels=6)"
   ]
  },
  {
   "cell_type": "code",
   "execution_count": 19,
   "metadata": {},
   "outputs": [],
   "source": [
    "def convert_data_to_examples(train, val, data_column, label_column):\n",
    "    \n",
    "    train_InputExamples = train.apply(lambda x: InputExample(guid=None, \n",
    "                                                             text_a = x[data_column], \n",
    "                                                             text_b = None, \n",
    "                                                             label = x[label_column]), axis = 1)\n",
    "\n",
    "    val_InputExamples = val.apply(lambda x: InputExample(guid=None, \n",
    "                                                         text_a = x[data_column], \n",
    "                                                         text_b = None, \n",
    "                                                         label = x[label_column]), axis = 1)\n",
    "    return train_InputExamples, val_InputExamples"
   ]
  },
  {
   "cell_type": "code",
   "execution_count": 20,
   "metadata": {},
   "outputs": [],
   "source": [
    "train_InputExamples, val_InputExamples = convert_data_to_examples(train_df, validation_df, 'text', 'emotion')"
   ]
  },
  {
   "cell_type": "code",
   "execution_count": 24,
   "metadata": {},
   "outputs": [],
   "source": [
    "def convert_examples_to_tf_dataset(examples, tokenizer, max_length=128):\n",
    "    features = [] \n",
    "    for e in examples:\n",
    "        input_dict = tokenizer.encode_plus(\n",
    "            e.text_a,\n",
    "            add_special_tokens=True,\n",
    "            max_length=max_length,\n",
    "            return_token_type_ids=True,\n",
    "            return_attention_mask=True,\n",
    "            pad_to_max_length=True,\n",
    "            truncation=True\n",
    "        )\n",
    "        input_ids, attention_mask = (input_dict[\"input_ids\"], input_dict[\"attention_mask\"])\n",
    "\n",
    "        features.append(\n",
    "            InputFeatures(input_ids=input_ids, attention_mask=attention_mask, label=e.label) # token_type_ids=token_type_ids, label=e.label)\n",
    "        )\n",
    "\n",
    "    def gen():\n",
    "        for f in features:\n",
    "            yield (\n",
    "                {\n",
    "                    \"input_ids\": f.input_ids,\n",
    "                    \"attention_mask\": f.attention_mask,\n",
    "                    # \"token_type_ids\": f.token_type_ids,\n",
    "                },\n",
    "                f.label,\n",
    "            )\n",
    "\n",
    "    return tf.data.Dataset.from_generator(\n",
    "        gen,\n",
    "        (\n",
    "            {\n",
    "                \"input_ids\": tf.int32,\n",
    "                \"attention_mask\": tf.int32,\n",
    "                # \"token_type_ids\": tf.int32,\n",
    "            },\n",
    "            tf.int64,\n",
    "        ),\n",
    "        (\n",
    "            {\n",
    "                \"input_ids\": tf.TensorShape([None]),\n",
    "                \"attention_mask\": tf.TensorShape([None]),\n",
    "                # \"token_type_ids\": tf.TensorShape([None]),\n",
    "            },\n",
    "            tf.TensorShape([]),\n",
    "        ),\n",
    "    )"
   ]
  },
  {
   "cell_type": "code",
   "execution_count": 25,
   "metadata": {},
   "outputs": [],
   "source": [
    "train_data = convert_examples_to_tf_dataset(list(train_InputExamples), tokenizer)\n",
    "train_data = train_data.shuffle(100).batch(32).repeat(2)"
   ]
  },
  {
   "cell_type": "code",
   "execution_count": 26,
   "metadata": {},
   "outputs": [],
   "source": [
    "val_data = convert_examples_to_tf_dataset(list(val_InputExamples), tokenizer)\n",
    "val_data = val_data.batch(32)"
   ]
  },
  {
   "cell_type": "code",
   "execution_count": 27,
   "metadata": {},
   "outputs": [
    {
     "name": "stderr",
     "output_type": "stream",
     "text": [
      "WARNING:absl:At this time, the v2.11+ optimizer `tf.keras.optimizers.Adam` runs slowly on M1/M2 Macs, please use the legacy TF-Keras optimizer instead, located at `tf.keras.optimizers.legacy.Adam`.\n"
     ]
    }
   ],
   "source": [
    "model.compile(optimizer=tf.keras.optimizers.Adam(learning_rate=3e-5),\n",
    "              loss=tf.keras.losses.SparseCategoricalCrossentropy(from_logits=True),\n",
    "              metrics=[tf.keras.metrics.SparseCategoricalAccuracy()])"
   ]
  },
  {
   "cell_type": "code",
   "execution_count": 28,
   "metadata": {},
   "outputs": [
    {
     "name": "stdout",
     "output_type": "stream",
     "text": [
      "Epoch 1/3\n"
     ]
    },
    {
     "name": "stdout",
     "output_type": "stream",
     "text": [
      "    240/Unknown - 653s 3s/step - loss: 0.7788 - sparse_categorical_accuracy: 0.7305"
     ]
    },
    {
     "ename": "",
     "evalue": "",
     "output_type": "error",
     "traceback": [
      "\u001b[1;31mThe Kernel crashed while executing code in the current cell or a previous cell. \n",
      "\u001b[1;31mPlease review the code in the cell(s) to identify a possible cause of the failure. \n",
      "\u001b[1;31mClick <a href='https://aka.ms/vscodeJupyterKernelCrash'>here</a> for more info. \n",
      "\u001b[1;31mView Jupyter <a href='command:jupyter.viewOutput'>log</a> for further details."
     ]
    }
   ],
   "source": [
    "model.fit(\n",
    "    train_data, \n",
    "    epochs=3, \n",
    "    validation_data=val_data,\n",
    "    verbose=1\n",
    "    )"
   ]
  },
  {
   "cell_type": "code",
   "execution_count": 13,
   "metadata": {},
   "outputs": [
    {
     "name": "stdout",
     "output_type": "stream",
     "text": [
      "distilbert True\n",
      "tf_distil_bert_for_sequence_classification/distilbert/embeddings/word_embeddings/weight:0 (30522, 768)\n",
      "tf_distil_bert_for_sequence_classification/distilbert/embeddings/position_embeddings/embeddings:0 (512, 768)\n",
      "tf_distil_bert_for_sequence_classification/distilbert/embeddings/LayerNorm/gamma:0 (768,)\n",
      "tf_distil_bert_for_sequence_classification/distilbert/embeddings/LayerNorm/beta:0 (768,)\n",
      "tf_distil_bert_for_sequence_classification/distilbert/transformer/layer_._0/attention/q_lin/kernel:0 (768, 768)\n",
      "tf_distil_bert_for_sequence_classification/distilbert/transformer/layer_._0/attention/q_lin/bias:0 (768,)\n",
      "tf_distil_bert_for_sequence_classification/distilbert/transformer/layer_._0/attention/k_lin/kernel:0 (768, 768)\n",
      "tf_distil_bert_for_sequence_classification/distilbert/transformer/layer_._0/attention/k_lin/bias:0 (768,)\n",
      "tf_distil_bert_for_sequence_classification/distilbert/transformer/layer_._0/attention/v_lin/kernel:0 (768, 768)\n",
      "tf_distil_bert_for_sequence_classification/distilbert/transformer/layer_._0/attention/v_lin/bias:0 (768,)\n",
      "tf_distil_bert_for_sequence_classification/distilbert/transformer/layer_._0/attention/out_lin/kernel:0 (768, 768)\n",
      "tf_distil_bert_for_sequence_classification/distilbert/transformer/layer_._0/attention/out_lin/bias:0 (768,)\n",
      "tf_distil_bert_for_sequence_classification/distilbert/transformer/layer_._0/sa_layer_norm/gamma:0 (768,)\n",
      "tf_distil_bert_for_sequence_classification/distilbert/transformer/layer_._0/sa_layer_norm/beta:0 (768,)\n",
      "tf_distil_bert_for_sequence_classification/distilbert/transformer/layer_._0/ffn/lin1/kernel:0 (768, 3072)\n",
      "tf_distil_bert_for_sequence_classification/distilbert/transformer/layer_._0/ffn/lin1/bias:0 (3072,)\n",
      "tf_distil_bert_for_sequence_classification/distilbert/transformer/layer_._0/ffn/lin2/kernel:0 (3072, 768)\n",
      "tf_distil_bert_for_sequence_classification/distilbert/transformer/layer_._0/ffn/lin2/bias:0 (768,)\n",
      "tf_distil_bert_for_sequence_classification/distilbert/transformer/layer_._0/output_layer_norm/gamma:0 (768,)\n",
      "tf_distil_bert_for_sequence_classification/distilbert/transformer/layer_._0/output_layer_norm/beta:0 (768,)\n",
      "tf_distil_bert_for_sequence_classification/distilbert/transformer/layer_._1/attention/q_lin/kernel:0 (768, 768)\n",
      "tf_distil_bert_for_sequence_classification/distilbert/transformer/layer_._1/attention/q_lin/bias:0 (768,)\n",
      "tf_distil_bert_for_sequence_classification/distilbert/transformer/layer_._1/attention/k_lin/kernel:0 (768, 768)\n",
      "tf_distil_bert_for_sequence_classification/distilbert/transformer/layer_._1/attention/k_lin/bias:0 (768,)\n",
      "tf_distil_bert_for_sequence_classification/distilbert/transformer/layer_._1/attention/v_lin/kernel:0 (768, 768)\n",
      "tf_distil_bert_for_sequence_classification/distilbert/transformer/layer_._1/attention/v_lin/bias:0 (768,)\n",
      "tf_distil_bert_for_sequence_classification/distilbert/transformer/layer_._1/attention/out_lin/kernel:0 (768, 768)\n",
      "tf_distil_bert_for_sequence_classification/distilbert/transformer/layer_._1/attention/out_lin/bias:0 (768,)\n",
      "tf_distil_bert_for_sequence_classification/distilbert/transformer/layer_._1/sa_layer_norm/gamma:0 (768,)\n",
      "tf_distil_bert_for_sequence_classification/distilbert/transformer/layer_._1/sa_layer_norm/beta:0 (768,)\n",
      "tf_distil_bert_for_sequence_classification/distilbert/transformer/layer_._1/ffn/lin1/kernel:0 (768, 3072)\n",
      "tf_distil_bert_for_sequence_classification/distilbert/transformer/layer_._1/ffn/lin1/bias:0 (3072,)\n",
      "tf_distil_bert_for_sequence_classification/distilbert/transformer/layer_._1/ffn/lin2/kernel:0 (3072, 768)\n",
      "tf_distil_bert_for_sequence_classification/distilbert/transformer/layer_._1/ffn/lin2/bias:0 (768,)\n",
      "tf_distil_bert_for_sequence_classification/distilbert/transformer/layer_._1/output_layer_norm/gamma:0 (768,)\n",
      "tf_distil_bert_for_sequence_classification/distilbert/transformer/layer_._1/output_layer_norm/beta:0 (768,)\n",
      "tf_distil_bert_for_sequence_classification/distilbert/transformer/layer_._2/attention/q_lin/kernel:0 (768, 768)\n",
      "tf_distil_bert_for_sequence_classification/distilbert/transformer/layer_._2/attention/q_lin/bias:0 (768,)\n",
      "tf_distil_bert_for_sequence_classification/distilbert/transformer/layer_._2/attention/k_lin/kernel:0 (768, 768)\n",
      "tf_distil_bert_for_sequence_classification/distilbert/transformer/layer_._2/attention/k_lin/bias:0 (768,)\n",
      "tf_distil_bert_for_sequence_classification/distilbert/transformer/layer_._2/attention/v_lin/kernel:0 (768, 768)\n",
      "tf_distil_bert_for_sequence_classification/distilbert/transformer/layer_._2/attention/v_lin/bias:0 (768,)\n",
      "tf_distil_bert_for_sequence_classification/distilbert/transformer/layer_._2/attention/out_lin/kernel:0 (768, 768)\n",
      "tf_distil_bert_for_sequence_classification/distilbert/transformer/layer_._2/attention/out_lin/bias:0 (768,)\n",
      "tf_distil_bert_for_sequence_classification/distilbert/transformer/layer_._2/sa_layer_norm/gamma:0 (768,)\n",
      "tf_distil_bert_for_sequence_classification/distilbert/transformer/layer_._2/sa_layer_norm/beta:0 (768,)\n",
      "tf_distil_bert_for_sequence_classification/distilbert/transformer/layer_._2/ffn/lin1/kernel:0 (768, 3072)\n",
      "tf_distil_bert_for_sequence_classification/distilbert/transformer/layer_._2/ffn/lin1/bias:0 (3072,)\n",
      "tf_distil_bert_for_sequence_classification/distilbert/transformer/layer_._2/ffn/lin2/kernel:0 (3072, 768)\n",
      "tf_distil_bert_for_sequence_classification/distilbert/transformer/layer_._2/ffn/lin2/bias:0 (768,)\n",
      "tf_distil_bert_for_sequence_classification/distilbert/transformer/layer_._2/output_layer_norm/gamma:0 (768,)\n",
      "tf_distil_bert_for_sequence_classification/distilbert/transformer/layer_._2/output_layer_norm/beta:0 (768,)\n",
      "tf_distil_bert_for_sequence_classification/distilbert/transformer/layer_._3/attention/q_lin/kernel:0 (768, 768)\n",
      "tf_distil_bert_for_sequence_classification/distilbert/transformer/layer_._3/attention/q_lin/bias:0 (768,)\n",
      "tf_distil_bert_for_sequence_classification/distilbert/transformer/layer_._3/attention/k_lin/kernel:0 (768, 768)\n",
      "tf_distil_bert_for_sequence_classification/distilbert/transformer/layer_._3/attention/k_lin/bias:0 (768,)\n",
      "tf_distil_bert_for_sequence_classification/distilbert/transformer/layer_._3/attention/v_lin/kernel:0 (768, 768)\n",
      "tf_distil_bert_for_sequence_classification/distilbert/transformer/layer_._3/attention/v_lin/bias:0 (768,)\n",
      "tf_distil_bert_for_sequence_classification/distilbert/transformer/layer_._3/attention/out_lin/kernel:0 (768, 768)\n",
      "tf_distil_bert_for_sequence_classification/distilbert/transformer/layer_._3/attention/out_lin/bias:0 (768,)\n",
      "tf_distil_bert_for_sequence_classification/distilbert/transformer/layer_._3/sa_layer_norm/gamma:0 (768,)\n",
      "tf_distil_bert_for_sequence_classification/distilbert/transformer/layer_._3/sa_layer_norm/beta:0 (768,)\n",
      "tf_distil_bert_for_sequence_classification/distilbert/transformer/layer_._3/ffn/lin1/kernel:0 (768, 3072)\n",
      "tf_distil_bert_for_sequence_classification/distilbert/transformer/layer_._3/ffn/lin1/bias:0 (3072,)\n",
      "tf_distil_bert_for_sequence_classification/distilbert/transformer/layer_._3/ffn/lin2/kernel:0 (3072, 768)\n",
      "tf_distil_bert_for_sequence_classification/distilbert/transformer/layer_._3/ffn/lin2/bias:0 (768,)\n",
      "tf_distil_bert_for_sequence_classification/distilbert/transformer/layer_._3/output_layer_norm/gamma:0 (768,)\n",
      "tf_distil_bert_for_sequence_classification/distilbert/transformer/layer_._3/output_layer_norm/beta:0 (768,)\n",
      "tf_distil_bert_for_sequence_classification/distilbert/transformer/layer_._4/attention/q_lin/kernel:0 (768, 768)\n",
      "tf_distil_bert_for_sequence_classification/distilbert/transformer/layer_._4/attention/q_lin/bias:0 (768,)\n",
      "tf_distil_bert_for_sequence_classification/distilbert/transformer/layer_._4/attention/k_lin/kernel:0 (768, 768)\n",
      "tf_distil_bert_for_sequence_classification/distilbert/transformer/layer_._4/attention/k_lin/bias:0 (768,)\n",
      "tf_distil_bert_for_sequence_classification/distilbert/transformer/layer_._4/attention/v_lin/kernel:0 (768, 768)\n",
      "tf_distil_bert_for_sequence_classification/distilbert/transformer/layer_._4/attention/v_lin/bias:0 (768,)\n",
      "tf_distil_bert_for_sequence_classification/distilbert/transformer/layer_._4/attention/out_lin/kernel:0 (768, 768)\n",
      "tf_distil_bert_for_sequence_classification/distilbert/transformer/layer_._4/attention/out_lin/bias:0 (768,)\n",
      "tf_distil_bert_for_sequence_classification/distilbert/transformer/layer_._4/sa_layer_norm/gamma:0 (768,)\n",
      "tf_distil_bert_for_sequence_classification/distilbert/transformer/layer_._4/sa_layer_norm/beta:0 (768,)\n",
      "tf_distil_bert_for_sequence_classification/distilbert/transformer/layer_._4/ffn/lin1/kernel:0 (768, 3072)\n",
      "tf_distil_bert_for_sequence_classification/distilbert/transformer/layer_._4/ffn/lin1/bias:0 (3072,)\n",
      "tf_distil_bert_for_sequence_classification/distilbert/transformer/layer_._4/ffn/lin2/kernel:0 (3072, 768)\n",
      "tf_distil_bert_for_sequence_classification/distilbert/transformer/layer_._4/ffn/lin2/bias:0 (768,)\n",
      "tf_distil_bert_for_sequence_classification/distilbert/transformer/layer_._4/output_layer_norm/gamma:0 (768,)\n",
      "tf_distil_bert_for_sequence_classification/distilbert/transformer/layer_._4/output_layer_norm/beta:0 (768,)\n",
      "tf_distil_bert_for_sequence_classification/distilbert/transformer/layer_._5/attention/q_lin/kernel:0 (768, 768)\n",
      "tf_distil_bert_for_sequence_classification/distilbert/transformer/layer_._5/attention/q_lin/bias:0 (768,)\n",
      "tf_distil_bert_for_sequence_classification/distilbert/transformer/layer_._5/attention/k_lin/kernel:0 (768, 768)\n",
      "tf_distil_bert_for_sequence_classification/distilbert/transformer/layer_._5/attention/k_lin/bias:0 (768,)\n",
      "tf_distil_bert_for_sequence_classification/distilbert/transformer/layer_._5/attention/v_lin/kernel:0 (768, 768)\n",
      "tf_distil_bert_for_sequence_classification/distilbert/transformer/layer_._5/attention/v_lin/bias:0 (768,)\n",
      "tf_distil_bert_for_sequence_classification/distilbert/transformer/layer_._5/attention/out_lin/kernel:0 (768, 768)\n",
      "tf_distil_bert_for_sequence_classification/distilbert/transformer/layer_._5/attention/out_lin/bias:0 (768,)\n",
      "tf_distil_bert_for_sequence_classification/distilbert/transformer/layer_._5/sa_layer_norm/gamma:0 (768,)\n",
      "tf_distil_bert_for_sequence_classification/distilbert/transformer/layer_._5/sa_layer_norm/beta:0 (768,)\n",
      "tf_distil_bert_for_sequence_classification/distilbert/transformer/layer_._5/ffn/lin1/kernel:0 (768, 3072)\n",
      "tf_distil_bert_for_sequence_classification/distilbert/transformer/layer_._5/ffn/lin1/bias:0 (3072,)\n",
      "tf_distil_bert_for_sequence_classification/distilbert/transformer/layer_._5/ffn/lin2/kernel:0 (3072, 768)\n",
      "tf_distil_bert_for_sequence_classification/distilbert/transformer/layer_._5/ffn/lin2/bias:0 (768,)\n",
      "tf_distil_bert_for_sequence_classification/distilbert/transformer/layer_._5/output_layer_norm/gamma:0 (768,)\n",
      "tf_distil_bert_for_sequence_classification/distilbert/transformer/layer_._5/output_layer_norm/beta:0 (768,)\n",
      "pre_classifier True\n",
      "tf_distil_bert_for_sequence_classification/pre_classifier/kernel:0 (768, 768)\n",
      "tf_distil_bert_for_sequence_classification/pre_classifier/bias:0 (768,)\n",
      "classifier True\n",
      "tf_distil_bert_for_sequence_classification/classifier/kernel:0 (768, 6)\n",
      "tf_distil_bert_for_sequence_classification/classifier/bias:0 (6,)\n",
      "dropout_19 True\n"
     ]
    }
   ],
   "source": [
    "for layer in model.layers:\n",
    "    print(layer.name, layer.trainable)\n",
    "    for weight in layer.weights:\n",
    "        print(weight.name, weight.shape)"
   ]
  },
  {
   "cell_type": "code",
   "execution_count": null,
   "metadata": {},
   "outputs": [],
   "source": []
  }
 ],
 "metadata": {
  "kernelspec": {
   "display_name": "tfnew",
   "language": "python",
   "name": "python3"
  },
  "language_info": {
   "codemirror_mode": {
    "name": "ipython",
    "version": 3
   },
   "file_extension": ".py",
   "mimetype": "text/x-python",
   "name": "python",
   "nbconvert_exporter": "python",
   "pygments_lexer": "ipython3",
   "version": "3.9.20"
  }
 },
 "nbformat": 4,
 "nbformat_minor": 2
}
